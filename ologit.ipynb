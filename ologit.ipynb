{
 "cells": [
  {
   "cell_type": "markdown",
   "metadata": {},
   "source": [
    "## Ologit test\n",
    "based on https://www.statsmodels.org/devel/examples/notebooks/generated/ordinal_regression.html"
   ]
  },
  {
   "cell_type": "code",
   "execution_count": 1,
   "metadata": {},
   "outputs": [],
   "source": [
    "import numpy as np\n",
    "import pandas as pd\n",
    "import scipy.stats as stats\n",
    "\n",
    "from statsmodels.miscmodels.ordinal_model import OrderedModel"
   ]
  },
  {
   "cell_type": "code",
   "execution_count": 2,
   "metadata": {},
   "outputs": [],
   "source": [
    "df = pd.read_stata(\"https://stats.idre.ucla.edu/stat/data/ologit.dta\")"
   ]
  },
  {
   "cell_type": "code",
   "execution_count": 3,
   "metadata": {},
   "outputs": [
    {
     "data": {
      "text/html": [
       "<div>\n",
       "<style scoped>\n",
       "    .dataframe tbody tr th:only-of-type {\n",
       "        vertical-align: middle;\n",
       "    }\n",
       "\n",
       "    .dataframe tbody tr th {\n",
       "        vertical-align: top;\n",
       "    }\n",
       "\n",
       "    .dataframe thead th {\n",
       "        text-align: right;\n",
       "    }\n",
       "</style>\n",
       "<table border=\"1\" class=\"dataframe\">\n",
       "  <thead>\n",
       "    <tr style=\"text-align: right;\">\n",
       "      <th></th>\n",
       "      <th>apply</th>\n",
       "      <th>pared</th>\n",
       "      <th>public</th>\n",
       "      <th>gpa</th>\n",
       "    </tr>\n",
       "  </thead>\n",
       "  <tbody>\n",
       "    <tr>\n",
       "      <th>0</th>\n",
       "      <td>very likely</td>\n",
       "      <td>0</td>\n",
       "      <td>0</td>\n",
       "      <td>3.26</td>\n",
       "    </tr>\n",
       "    <tr>\n",
       "      <th>1</th>\n",
       "      <td>somewhat likely</td>\n",
       "      <td>1</td>\n",
       "      <td>0</td>\n",
       "      <td>3.21</td>\n",
       "    </tr>\n",
       "    <tr>\n",
       "      <th>2</th>\n",
       "      <td>unlikely</td>\n",
       "      <td>1</td>\n",
       "      <td>1</td>\n",
       "      <td>3.94</td>\n",
       "    </tr>\n",
       "    <tr>\n",
       "      <th>3</th>\n",
       "      <td>somewhat likely</td>\n",
       "      <td>0</td>\n",
       "      <td>0</td>\n",
       "      <td>2.81</td>\n",
       "    </tr>\n",
       "    <tr>\n",
       "      <th>4</th>\n",
       "      <td>somewhat likely</td>\n",
       "      <td>0</td>\n",
       "      <td>0</td>\n",
       "      <td>2.53</td>\n",
       "    </tr>\n",
       "  </tbody>\n",
       "</table>\n",
       "</div>"
      ],
      "text/plain": [
       "             apply  pared  public   gpa\n",
       "0      very likely      0       0  3.26\n",
       "1  somewhat likely      1       0  3.21\n",
       "2         unlikely      1       1  3.94\n",
       "3  somewhat likely      0       0  2.81\n",
       "4  somewhat likely      0       0  2.53"
      ]
     },
     "execution_count": 3,
     "metadata": {},
     "output_type": "execute_result"
    }
   ],
   "source": [
    "df.head()"
   ]
  },
  {
   "cell_type": "code",
   "execution_count": 4,
   "metadata": {},
   "outputs": [
    {
     "data": {
      "text/plain": [
       "apply     category\n",
       "pared         int8\n",
       "public        int8\n",
       "gpa        float32\n",
       "dtype: object"
      ]
     },
     "execution_count": 4,
     "metadata": {},
     "output_type": "execute_result"
    }
   ],
   "source": [
    "df.dtypes"
   ]
  },
  {
   "cell_type": "code",
   "execution_count": 5,
   "metadata": {},
   "outputs": [
    {
     "data": {
      "text/plain": [
       "CategoricalDtype(categories=['unlikely', 'somewhat likely', 'very likely'], ordered=True, categories_dtype=object)"
      ]
     },
     "execution_count": 5,
     "metadata": {},
     "output_type": "execute_result"
    }
   ],
   "source": [
    "df[\"apply\"].dtype"
   ]
  },
  {
   "cell_type": "code",
   "execution_count": 6,
   "metadata": {},
   "outputs": [
    {
     "data": {
      "text/html": [
       "<table class=\"simpletable\">\n",
       "<caption>OrderedModel Results</caption>\n",
       "<tr>\n",
       "  <th>Dep. Variable:</th>           <td>apply</td>       <th>  Log-Likelihood:    </th> <td> -358.51</td>\n",
       "</tr>\n",
       "<tr>\n",
       "  <th>Model:</th>               <td>OrderedModel</td>    <th>  AIC:               </th> <td>   727.0</td>\n",
       "</tr>\n",
       "<tr>\n",
       "  <th>Method:</th>           <td>Maximum Likelihood</td> <th>  BIC:               </th> <td>   747.0</td>\n",
       "</tr>\n",
       "<tr>\n",
       "  <th>Date:</th>              <td>Tue, 17 Dec 2024</td>  <th>                     </th>     <td> </td>   \n",
       "</tr>\n",
       "<tr>\n",
       "  <th>Time:</th>                  <td>17:24:06</td>      <th>                     </th>     <td> </td>   \n",
       "</tr>\n",
       "<tr>\n",
       "  <th>No. Observations:</th>       <td>   400</td>       <th>                     </th>     <td> </td>   \n",
       "</tr>\n",
       "<tr>\n",
       "  <th>Df Residuals:</th>           <td>   395</td>       <th>                     </th>     <td> </td>   \n",
       "</tr>\n",
       "<tr>\n",
       "  <th>Df Model:</th>               <td>     3</td>       <th>                     </th>     <td> </td>   \n",
       "</tr>\n",
       "</table>\n",
       "<table class=\"simpletable\">\n",
       "<tr>\n",
       "               <td></td>                  <th>coef</th>     <th>std err</th>      <th>z</th>      <th>P>|z|</th>  <th>[0.025</th>    <th>0.975]</th>  \n",
       "</tr>\n",
       "<tr>\n",
       "  <th>pared</th>                       <td>    1.0476</td> <td>    0.266</td> <td>    3.942</td> <td> 0.000</td> <td>    0.527</td> <td>    1.569</td>\n",
       "</tr>\n",
       "<tr>\n",
       "  <th>public</th>                      <td>   -0.0586</td> <td>    0.298</td> <td>   -0.197</td> <td> 0.844</td> <td>   -0.642</td> <td>    0.525</td>\n",
       "</tr>\n",
       "<tr>\n",
       "  <th>gpa</th>                         <td>    0.6158</td> <td>    0.261</td> <td>    2.363</td> <td> 0.018</td> <td>    0.105</td> <td>    1.127</td>\n",
       "</tr>\n",
       "<tr>\n",
       "  <th>unlikely/somewhat likely</th>    <td>    2.2035</td> <td>    0.780</td> <td>    2.827</td> <td> 0.005</td> <td>    0.676</td> <td>    3.731</td>\n",
       "</tr>\n",
       "<tr>\n",
       "  <th>somewhat likely/very likely</th> <td>    0.7398</td> <td>    0.080</td> <td>    9.236</td> <td> 0.000</td> <td>    0.583</td> <td>    0.897</td>\n",
       "</tr>\n",
       "</table>"
      ],
      "text/latex": [
       "\\begin{center}\n",
       "\\begin{tabular}{lclc}\n",
       "\\toprule\n",
       "\\textbf{Dep. Variable:}              &       apply        & \\textbf{  Log-Likelihood:    } &   -358.51   \\\\\n",
       "\\textbf{Model:}                      &    OrderedModel    & \\textbf{  AIC:               } &     727.0   \\\\\n",
       "\\textbf{Method:}                     & Maximum Likelihood & \\textbf{  BIC:               } &     747.0   \\\\\n",
       "\\textbf{Date:}                       &  Tue, 17 Dec 2024  & \\textbf{                     } &             \\\\\n",
       "\\textbf{Time:}                       &      17:24:06      & \\textbf{                     } &             \\\\\n",
       "\\textbf{No. Observations:}           &          400       & \\textbf{                     } &             \\\\\n",
       "\\textbf{Df Residuals:}               &          395       & \\textbf{                     } &             \\\\\n",
       "\\textbf{Df Model:}                   &            3       & \\textbf{                     } &             \\\\\n",
       "\\bottomrule\n",
       "\\end{tabular}\n",
       "\\begin{tabular}{lcccccc}\n",
       "                                     & \\textbf{coef} & \\textbf{std err} & \\textbf{z} & \\textbf{P$> |$z$|$} & \\textbf{[0.025} & \\textbf{0.975]}  \\\\\n",
       "\\midrule\n",
       "\\textbf{pared}                       &       1.0476  &        0.266     &     3.942  &         0.000        &        0.527    &        1.569     \\\\\n",
       "\\textbf{public}                      &      -0.0586  &        0.298     &    -0.197  &         0.844        &       -0.642    &        0.525     \\\\\n",
       "\\textbf{gpa}                         &       0.6158  &        0.261     &     2.363  &         0.018        &        0.105    &        1.127     \\\\\n",
       "\\textbf{unlikely/somewhat likely}    &       2.2035  &        0.780     &     2.827  &         0.005        &        0.676    &        3.731     \\\\\n",
       "\\textbf{somewhat likely/very likely} &       0.7398  &        0.080     &     9.236  &         0.000        &        0.583    &        0.897     \\\\\n",
       "\\bottomrule\n",
       "\\end{tabular}\n",
       "%\\caption{OrderedModel Results}\n",
       "\\end{center}"
      ],
      "text/plain": [
       "<class 'statsmodels.iolib.summary.Summary'>\n",
       "\"\"\"\n",
       "                             OrderedModel Results                             \n",
       "==============================================================================\n",
       "Dep. Variable:                  apply   Log-Likelihood:                -358.51\n",
       "Model:                   OrderedModel   AIC:                             727.0\n",
       "Method:            Maximum Likelihood   BIC:                             747.0\n",
       "Date:                Tue, 17 Dec 2024                                         \n",
       "Time:                        17:24:06                                         \n",
       "No. Observations:                 400                                         \n",
       "Df Residuals:                     395                                         \n",
       "Df Model:                           3                                         \n",
       "===============================================================================================\n",
       "                                  coef    std err          z      P>|z|      [0.025      0.975]\n",
       "-----------------------------------------------------------------------------------------------\n",
       "pared                           1.0476      0.266      3.942      0.000       0.527       1.569\n",
       "public                         -0.0586      0.298     -0.197      0.844      -0.642       0.525\n",
       "gpa                             0.6158      0.261      2.363      0.018       0.105       1.127\n",
       "unlikely/somewhat likely        2.2035      0.780      2.827      0.005       0.676       3.731\n",
       "somewhat likely/very likely     0.7398      0.080      9.236      0.000       0.583       0.897\n",
       "===============================================================================================\n",
       "\"\"\""
      ]
     },
     "execution_count": 6,
     "metadata": {},
     "output_type": "execute_result"
    }
   ],
   "source": [
    "mod_log = OrderedModel(df[\"apply\"], df[[\"pared\", \"public\", \"gpa\"]], distr=\"logit\")\n",
    "\n",
    "res_log = mod_log.fit(method='bfgs', disp=False)\n",
    "res_log.summary()"
   ]
  },
  {
   "cell_type": "code",
   "execution_count": 19,
   "metadata": {},
   "outputs": [
    {
     "data": {
      "text/html": [
       "<div>\n",
       "<style scoped>\n",
       "    .dataframe tbody tr th:only-of-type {\n",
       "        vertical-align: middle;\n",
       "    }\n",
       "\n",
       "    .dataframe tbody tr th {\n",
       "        vertical-align: top;\n",
       "    }\n",
       "\n",
       "    .dataframe thead th {\n",
       "        text-align: right;\n",
       "    }\n",
       "</style>\n",
       "<table border=\"1\" class=\"dataframe\">\n",
       "  <thead>\n",
       "    <tr style=\"text-align: right;\">\n",
       "      <th></th>\n",
       "      <th></th>\n",
       "      <th>coef</th>\n",
       "      <th>std err</th>\n",
       "      <th>z</th>\n",
       "      <th>P&gt;|z|</th>\n",
       "      <th>[0.025</th>\n",
       "      <th>0.975]</th>\n",
       "    </tr>\n",
       "  </thead>\n",
       "  <tbody>\n",
       "    <tr>\n",
       "      <th>0</th>\n",
       "      <td>pared</td>\n",
       "      <td>1.0476</td>\n",
       "      <td>0.266</td>\n",
       "      <td>3.942</td>\n",
       "      <td>0.000</td>\n",
       "      <td>0.527</td>\n",
       "      <td>1.569</td>\n",
       "    </tr>\n",
       "    <tr>\n",
       "      <th>1</th>\n",
       "      <td>public</td>\n",
       "      <td>-0.0586</td>\n",
       "      <td>0.298</td>\n",
       "      <td>-0.197</td>\n",
       "      <td>0.844</td>\n",
       "      <td>-0.642</td>\n",
       "      <td>0.525</td>\n",
       "    </tr>\n",
       "    <tr>\n",
       "      <th>2</th>\n",
       "      <td>gpa</td>\n",
       "      <td>0.6158</td>\n",
       "      <td>0.261</td>\n",
       "      <td>2.363</td>\n",
       "      <td>0.018</td>\n",
       "      <td>0.105</td>\n",
       "      <td>1.127</td>\n",
       "    </tr>\n",
       "    <tr>\n",
       "      <th>3</th>\n",
       "      <td>unlikely/somewhat likely</td>\n",
       "      <td>2.2035</td>\n",
       "      <td>0.780</td>\n",
       "      <td>2.827</td>\n",
       "      <td>0.005</td>\n",
       "      <td>0.676</td>\n",
       "      <td>3.731</td>\n",
       "    </tr>\n",
       "    <tr>\n",
       "      <th>4</th>\n",
       "      <td>somewhat likely/very likely</td>\n",
       "      <td>0.7398</td>\n",
       "      <td>0.080</td>\n",
       "      <td>9.236</td>\n",
       "      <td>0.000</td>\n",
       "      <td>0.583</td>\n",
       "      <td>0.897</td>\n",
       "    </tr>\n",
       "  </tbody>\n",
       "</table>\n",
       "</div>"
      ],
      "text/plain": [
       "                                  coef  std err      z   P>|z|  [0.025  0.975]\n",
       "0                        pared  1.0476    0.266  3.942   0.000   0.527   1.569\n",
       "1                       public -0.0586    0.298 -0.197   0.844  -0.642   0.525\n",
       "2                          gpa  0.6158    0.261  2.363   0.018   0.105   1.127\n",
       "3     unlikely/somewhat likely  2.2035    0.780  2.827   0.005   0.676   3.731\n",
       "4  somewhat likely/very likely  0.7398    0.080  9.236   0.000   0.583   0.897"
      ]
     },
     "execution_count": 19,
     "metadata": {},
     "output_type": "execute_result"
    }
   ],
   "source": [
    "summary = res_log.summary().tables[1]\n",
    "summary = pd.DataFrame(summary.data[1:], columns=summary.data[0])\n",
    "summary = summary.astype({\"coef\":\"float64\",\"std err\":\"float64\", \"z\":\"float64\", \"[0.025\":\"float64\", \"0.975]\":\"float64\"})\n",
    "summary"
   ]
  },
  {
   "cell_type": "code",
   "execution_count": 20,
   "metadata": {},
   "outputs": [
    {
     "data": {
      "text/plain": [
       "0    3.942\n",
       "1   -0.197\n",
       "2    2.363\n",
       "3    2.827\n",
       "4    9.236\n",
       "Name: z, dtype: float64"
      ]
     },
     "execution_count": 20,
     "metadata": {},
     "output_type": "execute_result"
    }
   ],
   "source": [
    "summary['z']"
   ]
  },
  {
   "cell_type": "code",
   "execution_count": 21,
   "metadata": {},
   "outputs": [],
   "source": [
    "z_values = summary['z']\n",
    "p_values = 2 * (1 - stats.norm.cdf(abs(z_values)))"
   ]
  },
  {
   "cell_type": "code",
   "execution_count": 23,
   "metadata": {},
   "outputs": [
    {
     "data": {
      "text/html": [
       "<div>\n",
       "<style scoped>\n",
       "    .dataframe tbody tr th:only-of-type {\n",
       "        vertical-align: middle;\n",
       "    }\n",
       "\n",
       "    .dataframe tbody tr th {\n",
       "        vertical-align: top;\n",
       "    }\n",
       "\n",
       "    .dataframe thead th {\n",
       "        text-align: right;\n",
       "    }\n",
       "</style>\n",
       "<table border=\"1\" class=\"dataframe\">\n",
       "  <thead>\n",
       "    <tr style=\"text-align: right;\">\n",
       "      <th></th>\n",
       "      <th></th>\n",
       "      <th>coef</th>\n",
       "      <th>std err</th>\n",
       "      <th>z</th>\n",
       "      <th>P&gt;|z|</th>\n",
       "      <th>[0.025</th>\n",
       "      <th>0.975]</th>\n",
       "      <th>p</th>\n",
       "    </tr>\n",
       "  </thead>\n",
       "  <tbody>\n",
       "    <tr>\n",
       "      <th>0</th>\n",
       "      <td>pared</td>\n",
       "      <td>1.0476</td>\n",
       "      <td>0.266</td>\n",
       "      <td>3.942</td>\n",
       "      <td>0.000</td>\n",
       "      <td>0.527</td>\n",
       "      <td>1.569</td>\n",
       "      <td>0.000081</td>\n",
       "    </tr>\n",
       "    <tr>\n",
       "      <th>1</th>\n",
       "      <td>public</td>\n",
       "      <td>-0.0586</td>\n",
       "      <td>0.298</td>\n",
       "      <td>-0.197</td>\n",
       "      <td>0.844</td>\n",
       "      <td>-0.642</td>\n",
       "      <td>0.525</td>\n",
       "      <td>0.843828</td>\n",
       "    </tr>\n",
       "    <tr>\n",
       "      <th>2</th>\n",
       "      <td>gpa</td>\n",
       "      <td>0.6158</td>\n",
       "      <td>0.261</td>\n",
       "      <td>2.363</td>\n",
       "      <td>0.018</td>\n",
       "      <td>0.105</td>\n",
       "      <td>1.127</td>\n",
       "      <td>0.018128</td>\n",
       "    </tr>\n",
       "    <tr>\n",
       "      <th>3</th>\n",
       "      <td>unlikely/somewhat likely</td>\n",
       "      <td>2.2035</td>\n",
       "      <td>0.780</td>\n",
       "      <td>2.827</td>\n",
       "      <td>0.005</td>\n",
       "      <td>0.676</td>\n",
       "      <td>3.731</td>\n",
       "      <td>0.004699</td>\n",
       "    </tr>\n",
       "    <tr>\n",
       "      <th>4</th>\n",
       "      <td>somewhat likely/very likely</td>\n",
       "      <td>0.7398</td>\n",
       "      <td>0.080</td>\n",
       "      <td>9.236</td>\n",
       "      <td>0.000</td>\n",
       "      <td>0.583</td>\n",
       "      <td>0.897</td>\n",
       "      <td>0.000000</td>\n",
       "    </tr>\n",
       "  </tbody>\n",
       "</table>\n",
       "</div>"
      ],
      "text/plain": [
       "                                  coef  std err      z   P>|z|  [0.025  \\\n",
       "0                        pared  1.0476    0.266  3.942   0.000   0.527   \n",
       "1                       public -0.0586    0.298 -0.197   0.844  -0.642   \n",
       "2                          gpa  0.6158    0.261  2.363   0.018   0.105   \n",
       "3     unlikely/somewhat likely  2.2035    0.780  2.827   0.005   0.676   \n",
       "4  somewhat likely/very likely  0.7398    0.080  9.236   0.000   0.583   \n",
       "\n",
       "   0.975]         p  \n",
       "0   1.569  0.000081  \n",
       "1   0.525  0.843828  \n",
       "2   1.127  0.018128  \n",
       "3   3.731  0.004699  \n",
       "4   0.897  0.000000  "
      ]
     },
     "execution_count": 23,
     "metadata": {},
     "output_type": "execute_result"
    }
   ],
   "source": [
    "summary['p'] = p_values\n",
    "summary"
   ]
  },
  {
   "cell_type": "code",
   "execution_count": null,
   "metadata": {},
   "outputs": [],
   "source": []
  }
 ],
 "metadata": {
  "kernelspec": {
   "display_name": ".venv",
   "language": "python",
   "name": "python3"
  },
  "language_info": {
   "codemirror_mode": {
    "name": "ipython",
    "version": 3
   },
   "file_extension": ".py",
   "mimetype": "text/x-python",
   "name": "python",
   "nbconvert_exporter": "python",
   "pygments_lexer": "ipython3",
   "version": "3.12.7"
  }
 },
 "nbformat": 4,
 "nbformat_minor": 2
}
